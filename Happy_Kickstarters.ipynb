{
 "cells": [
  {
   "cell_type": "markdown",
   "metadata": {},
   "source": [
    "# Preparation"
   ]
  },
  {
   "cell_type": "code",
   "execution_count": 1,
   "metadata": {},
   "outputs": [],
   "source": [
    "import pandas as pd\n",
    "import numpy as np\n",
    "import matplotlib.pyplot as plt\n",
    "import seaborn as sns"
   ]
  },
  {
   "cell_type": "markdown",
   "metadata": {},
   "source": [
    "Собираем данные с Kaggle: <br>\n",
    "World Happiness [2015-2017](https://www.kaggle.com/unsdsn/world-happiness), [2018](https://www.kaggle.com/njlow1202/world-happiness-report-data-2018)<br>\n",
    "Kickstarter projects [2014-2019](https://www.kaggle.com/yashkantharia/kickstarter-campaigns)"
   ]
  },
  {
   "cell_type": "markdown",
   "metadata": {},
   "source": [
    "### Happiness"
   ]
  },
  {
   "cell_type": "markdown",
   "metadata": {},
   "source": [
    "Есть 4 разных файла csv -- по каждому году исследования. Подчистим каждый, приведём к общему виду факторы. Соберём в один датасет."
   ]
  },
  {
   "cell_type": "markdown",
   "metadata": {},
   "source": [
    "GDP per Capita, Family, Life Expectancy, Freedom, Generosity, Trust Government Corruption describe the extent to which these factors contribute in evaluating the happiness in each country."
   ]
  },
  {
   "cell_type": "code",
   "execution_count": 2,
   "metadata": {},
   "outputs": [],
   "source": [
    "hap15 = pd.read_csv(\"./data/2015.csv\", index_col='Country')\n",
    "hap16 = pd.read_csv(\"./data/2016.csv\", index_col='Country')\n",
    "hap17 = pd.read_csv(\"./data/2017.csv\", index_col='Country')\n",
    "hap18 = pd.read_csv(\"./data/WorldHappiness2018_Data.csv\", index_col='Country')"
   ]
  },
  {
   "cell_type": "code",
   "execution_count": 3,
   "metadata": {
    "scrolled": true
   },
   "outputs": [
    {
     "data": {
      "text/html": [
       "<div>\n",
       "<style scoped>\n",
       "    .dataframe tbody tr th:only-of-type {\n",
       "        vertical-align: middle;\n",
       "    }\n",
       "\n",
       "    .dataframe tbody tr th {\n",
       "        vertical-align: top;\n",
       "    }\n",
       "\n",
       "    .dataframe thead th {\n",
       "        text-align: right;\n",
       "    }\n",
       "</style>\n",
       "<table border=\"1\" class=\"dataframe\">\n",
       "  <thead>\n",
       "    <tr style=\"text-align: right;\">\n",
       "      <th></th>\n",
       "      <th>Region</th>\n",
       "      <th>Happiness Rank</th>\n",
       "      <th>Happiness Score</th>\n",
       "      <th>Standard Error</th>\n",
       "      <th>Economy (GDP per Capita)</th>\n",
       "      <th>Family</th>\n",
       "      <th>Health (Life Expectancy)</th>\n",
       "      <th>Freedom</th>\n",
       "      <th>Trust (Government Corruption)</th>\n",
       "      <th>Generosity</th>\n",
       "      <th>Dystopia Residual</th>\n",
       "    </tr>\n",
       "    <tr>\n",
       "      <th>Country</th>\n",
       "      <th></th>\n",
       "      <th></th>\n",
       "      <th></th>\n",
       "      <th></th>\n",
       "      <th></th>\n",
       "      <th></th>\n",
       "      <th></th>\n",
       "      <th></th>\n",
       "      <th></th>\n",
       "      <th></th>\n",
       "      <th></th>\n",
       "    </tr>\n",
       "  </thead>\n",
       "  <tbody>\n",
       "    <tr>\n",
       "      <th>Switzerland</th>\n",
       "      <td>Western Europe</td>\n",
       "      <td>1</td>\n",
       "      <td>7.587</td>\n",
       "      <td>0.03411</td>\n",
       "      <td>1.39651</td>\n",
       "      <td>1.34951</td>\n",
       "      <td>0.94143</td>\n",
       "      <td>0.66557</td>\n",
       "      <td>0.41978</td>\n",
       "      <td>0.29678</td>\n",
       "      <td>2.51738</td>\n",
       "    </tr>\n",
       "    <tr>\n",
       "      <th>Iceland</th>\n",
       "      <td>Western Europe</td>\n",
       "      <td>2</td>\n",
       "      <td>7.561</td>\n",
       "      <td>0.04884</td>\n",
       "      <td>1.30232</td>\n",
       "      <td>1.40223</td>\n",
       "      <td>0.94784</td>\n",
       "      <td>0.62877</td>\n",
       "      <td>0.14145</td>\n",
       "      <td>0.43630</td>\n",
       "      <td>2.70201</td>\n",
       "    </tr>\n",
       "    <tr>\n",
       "      <th>Denmark</th>\n",
       "      <td>Western Europe</td>\n",
       "      <td>3</td>\n",
       "      <td>7.527</td>\n",
       "      <td>0.03328</td>\n",
       "      <td>1.32548</td>\n",
       "      <td>1.36058</td>\n",
       "      <td>0.87464</td>\n",
       "      <td>0.64938</td>\n",
       "      <td>0.48357</td>\n",
       "      <td>0.34139</td>\n",
       "      <td>2.49204</td>\n",
       "    </tr>\n",
       "    <tr>\n",
       "      <th>Norway</th>\n",
       "      <td>Western Europe</td>\n",
       "      <td>4</td>\n",
       "      <td>7.522</td>\n",
       "      <td>0.03880</td>\n",
       "      <td>1.45900</td>\n",
       "      <td>1.33095</td>\n",
       "      <td>0.88521</td>\n",
       "      <td>0.66973</td>\n",
       "      <td>0.36503</td>\n",
       "      <td>0.34699</td>\n",
       "      <td>2.46531</td>\n",
       "    </tr>\n",
       "    <tr>\n",
       "      <th>Canada</th>\n",
       "      <td>North America</td>\n",
       "      <td>5</td>\n",
       "      <td>7.427</td>\n",
       "      <td>0.03553</td>\n",
       "      <td>1.32629</td>\n",
       "      <td>1.32261</td>\n",
       "      <td>0.90563</td>\n",
       "      <td>0.63297</td>\n",
       "      <td>0.32957</td>\n",
       "      <td>0.45811</td>\n",
       "      <td>2.45176</td>\n",
       "    </tr>\n",
       "  </tbody>\n",
       "</table>\n",
       "</div>"
      ],
      "text/plain": [
       "                     Region  Happiness Rank  Happiness Score  Standard Error  \\\n",
       "Country                                                                        \n",
       "Switzerland  Western Europe               1            7.587         0.03411   \n",
       "Iceland      Western Europe               2            7.561         0.04884   \n",
       "Denmark      Western Europe               3            7.527         0.03328   \n",
       "Norway       Western Europe               4            7.522         0.03880   \n",
       "Canada        North America               5            7.427         0.03553   \n",
       "\n",
       "             Economy (GDP per Capita)   Family  Health (Life Expectancy)  \\\n",
       "Country                                                                    \n",
       "Switzerland                   1.39651  1.34951                   0.94143   \n",
       "Iceland                       1.30232  1.40223                   0.94784   \n",
       "Denmark                       1.32548  1.36058                   0.87464   \n",
       "Norway                        1.45900  1.33095                   0.88521   \n",
       "Canada                        1.32629  1.32261                   0.90563   \n",
       "\n",
       "             Freedom  Trust (Government Corruption)  Generosity  \\\n",
       "Country                                                           \n",
       "Switzerland  0.66557                        0.41978     0.29678   \n",
       "Iceland      0.62877                        0.14145     0.43630   \n",
       "Denmark      0.64938                        0.48357     0.34139   \n",
       "Norway       0.66973                        0.36503     0.34699   \n",
       "Canada       0.63297                        0.32957     0.45811   \n",
       "\n",
       "             Dystopia Residual  \n",
       "Country                         \n",
       "Switzerland            2.51738  \n",
       "Iceland                2.70201  \n",
       "Denmark                2.49204  \n",
       "Norway                 2.46531  \n",
       "Canada                 2.45176  "
      ]
     },
     "execution_count": 3,
     "metadata": {},
     "output_type": "execute_result"
    }
   ],
   "source": [
    "hap15.head()"
   ]
  },
  {
   "cell_type": "code",
   "execution_count": 4,
   "metadata": {
    "scrolled": true
   },
   "outputs": [
    {
     "name": "stdout",
     "output_type": "stream",
     "text": [
      "<class 'pandas.core.frame.DataFrame'>\n",
      "Index: 158 entries, Afghanistan to Zimbabwe\n",
      "Data columns (total 9 columns):\n",
      "region        158 non-null category\n",
      "happiness     158 non-null float64\n",
      "economy       158 non-null float64\n",
      "family        158 non-null float64\n",
      "health        158 non-null float64\n",
      "freedom       158 non-null float64\n",
      "trust         158 non-null float64\n",
      "generosity    158 non-null float64\n",
      "res           158 non-null float64\n",
      "dtypes: category(1), float64(8)\n",
      "memory usage: 11.7+ KB\n"
     ]
    }
   ],
   "source": [
    "hap15['Region'] = hap15.Region.astype('category')\n",
    "hap15.drop(['Standard Error', 'Happiness Rank'], axis=1, inplace=True)\n",
    "hap15.columns = ['region', 'happiness', 'economy', 'family', \n",
    "                 'health', 'freedom', 'trust', 'generosity', 'res']\n",
    "hap15.sort_index(inplace=True)\n",
    "hap15.info()"
   ]
  },
  {
   "cell_type": "code",
   "execution_count": 5,
   "metadata": {},
   "outputs": [
    {
     "data": {
      "text/html": [
       "<div>\n",
       "<style scoped>\n",
       "    .dataframe tbody tr th:only-of-type {\n",
       "        vertical-align: middle;\n",
       "    }\n",
       "\n",
       "    .dataframe tbody tr th {\n",
       "        vertical-align: top;\n",
       "    }\n",
       "\n",
       "    .dataframe thead th {\n",
       "        text-align: right;\n",
       "    }\n",
       "</style>\n",
       "<table border=\"1\" class=\"dataframe\">\n",
       "  <thead>\n",
       "    <tr style=\"text-align: right;\">\n",
       "      <th></th>\n",
       "      <th>Region</th>\n",
       "      <th>Happiness Rank</th>\n",
       "      <th>Happiness Score</th>\n",
       "      <th>Lower Confidence Interval</th>\n",
       "      <th>Upper Confidence Interval</th>\n",
       "      <th>Economy (GDP per Capita)</th>\n",
       "      <th>Family</th>\n",
       "      <th>Health (Life Expectancy)</th>\n",
       "      <th>Freedom</th>\n",
       "      <th>Trust (Government Corruption)</th>\n",
       "      <th>Generosity</th>\n",
       "      <th>Dystopia Residual</th>\n",
       "    </tr>\n",
       "    <tr>\n",
       "      <th>Country</th>\n",
       "      <th></th>\n",
       "      <th></th>\n",
       "      <th></th>\n",
       "      <th></th>\n",
       "      <th></th>\n",
       "      <th></th>\n",
       "      <th></th>\n",
       "      <th></th>\n",
       "      <th></th>\n",
       "      <th></th>\n",
       "      <th></th>\n",
       "      <th></th>\n",
       "    </tr>\n",
       "  </thead>\n",
       "  <tbody>\n",
       "    <tr>\n",
       "      <th>Denmark</th>\n",
       "      <td>Western Europe</td>\n",
       "      <td>1</td>\n",
       "      <td>7.526</td>\n",
       "      <td>7.460</td>\n",
       "      <td>7.592</td>\n",
       "      <td>1.44178</td>\n",
       "      <td>1.16374</td>\n",
       "      <td>0.79504</td>\n",
       "      <td>0.57941</td>\n",
       "      <td>0.44453</td>\n",
       "      <td>0.36171</td>\n",
       "      <td>2.73939</td>\n",
       "    </tr>\n",
       "    <tr>\n",
       "      <th>Switzerland</th>\n",
       "      <td>Western Europe</td>\n",
       "      <td>2</td>\n",
       "      <td>7.509</td>\n",
       "      <td>7.428</td>\n",
       "      <td>7.590</td>\n",
       "      <td>1.52733</td>\n",
       "      <td>1.14524</td>\n",
       "      <td>0.86303</td>\n",
       "      <td>0.58557</td>\n",
       "      <td>0.41203</td>\n",
       "      <td>0.28083</td>\n",
       "      <td>2.69463</td>\n",
       "    </tr>\n",
       "    <tr>\n",
       "      <th>Iceland</th>\n",
       "      <td>Western Europe</td>\n",
       "      <td>3</td>\n",
       "      <td>7.501</td>\n",
       "      <td>7.333</td>\n",
       "      <td>7.669</td>\n",
       "      <td>1.42666</td>\n",
       "      <td>1.18326</td>\n",
       "      <td>0.86733</td>\n",
       "      <td>0.56624</td>\n",
       "      <td>0.14975</td>\n",
       "      <td>0.47678</td>\n",
       "      <td>2.83137</td>\n",
       "    </tr>\n",
       "    <tr>\n",
       "      <th>Norway</th>\n",
       "      <td>Western Europe</td>\n",
       "      <td>4</td>\n",
       "      <td>7.498</td>\n",
       "      <td>7.421</td>\n",
       "      <td>7.575</td>\n",
       "      <td>1.57744</td>\n",
       "      <td>1.12690</td>\n",
       "      <td>0.79579</td>\n",
       "      <td>0.59609</td>\n",
       "      <td>0.35776</td>\n",
       "      <td>0.37895</td>\n",
       "      <td>2.66465</td>\n",
       "    </tr>\n",
       "    <tr>\n",
       "      <th>Finland</th>\n",
       "      <td>Western Europe</td>\n",
       "      <td>5</td>\n",
       "      <td>7.413</td>\n",
       "      <td>7.351</td>\n",
       "      <td>7.475</td>\n",
       "      <td>1.40598</td>\n",
       "      <td>1.13464</td>\n",
       "      <td>0.81091</td>\n",
       "      <td>0.57104</td>\n",
       "      <td>0.41004</td>\n",
       "      <td>0.25492</td>\n",
       "      <td>2.82596</td>\n",
       "    </tr>\n",
       "  </tbody>\n",
       "</table>\n",
       "</div>"
      ],
      "text/plain": [
       "                     Region  Happiness Rank  Happiness Score  \\\n",
       "Country                                                        \n",
       "Denmark      Western Europe               1            7.526   \n",
       "Switzerland  Western Europe               2            7.509   \n",
       "Iceland      Western Europe               3            7.501   \n",
       "Norway       Western Europe               4            7.498   \n",
       "Finland      Western Europe               5            7.413   \n",
       "\n",
       "             Lower Confidence Interval  Upper Confidence Interval  \\\n",
       "Country                                                             \n",
       "Denmark                          7.460                      7.592   \n",
       "Switzerland                      7.428                      7.590   \n",
       "Iceland                          7.333                      7.669   \n",
       "Norway                           7.421                      7.575   \n",
       "Finland                          7.351                      7.475   \n",
       "\n",
       "             Economy (GDP per Capita)   Family  Health (Life Expectancy)  \\\n",
       "Country                                                                    \n",
       "Denmark                       1.44178  1.16374                   0.79504   \n",
       "Switzerland                   1.52733  1.14524                   0.86303   \n",
       "Iceland                       1.42666  1.18326                   0.86733   \n",
       "Norway                        1.57744  1.12690                   0.79579   \n",
       "Finland                       1.40598  1.13464                   0.81091   \n",
       "\n",
       "             Freedom  Trust (Government Corruption)  Generosity  \\\n",
       "Country                                                           \n",
       "Denmark      0.57941                        0.44453     0.36171   \n",
       "Switzerland  0.58557                        0.41203     0.28083   \n",
       "Iceland      0.56624                        0.14975     0.47678   \n",
       "Norway       0.59609                        0.35776     0.37895   \n",
       "Finland      0.57104                        0.41004     0.25492   \n",
       "\n",
       "             Dystopia Residual  \n",
       "Country                         \n",
       "Denmark                2.73939  \n",
       "Switzerland            2.69463  \n",
       "Iceland                2.83137  \n",
       "Norway                 2.66465  \n",
       "Finland                2.82596  "
      ]
     },
     "execution_count": 5,
     "metadata": {},
     "output_type": "execute_result"
    }
   ],
   "source": [
    "hap16.head()"
   ]
  },
  {
   "cell_type": "code",
   "execution_count": 6,
   "metadata": {},
   "outputs": [
    {
     "name": "stdout",
     "output_type": "stream",
     "text": [
      "<class 'pandas.core.frame.DataFrame'>\n",
      "Index: 157 entries, Afghanistan to Zimbabwe\n",
      "Data columns (total 9 columns):\n",
      "region        157 non-null category\n",
      "happiness     157 non-null float64\n",
      "economy       157 non-null float64\n",
      "family        157 non-null float64\n",
      "health        157 non-null float64\n",
      "freedom       157 non-null float64\n",
      "trust         157 non-null float64\n",
      "generosity    157 non-null float64\n",
      "res           157 non-null float64\n",
      "dtypes: category(1), float64(8)\n",
      "memory usage: 11.6+ KB\n"
     ]
    }
   ],
   "source": [
    "hap16['Region'] = hap16.Region.astype('category')\n",
    "hap16.drop(['Happiness Rank', 'Lower Confidence Interval', \n",
    "           'Upper Confidence Interval'], axis=1, inplace=True)\n",
    "hap16.columns = ['region', 'happiness', 'economy', 'family', \n",
    "                 'health', 'freedom', 'trust', 'generosity', 'res']\n",
    "hap16.sort_index(inplace=True)\n",
    "hap16.info()"
   ]
  },
  {
   "cell_type": "code",
   "execution_count": 7,
   "metadata": {},
   "outputs": [
    {
     "data": {
      "text/html": [
       "<div>\n",
       "<style scoped>\n",
       "    .dataframe tbody tr th:only-of-type {\n",
       "        vertical-align: middle;\n",
       "    }\n",
       "\n",
       "    .dataframe tbody tr th {\n",
       "        vertical-align: top;\n",
       "    }\n",
       "\n",
       "    .dataframe thead th {\n",
       "        text-align: right;\n",
       "    }\n",
       "</style>\n",
       "<table border=\"1\" class=\"dataframe\">\n",
       "  <thead>\n",
       "    <tr style=\"text-align: right;\">\n",
       "      <th></th>\n",
       "      <th>Happiness.Rank</th>\n",
       "      <th>Happiness.Score</th>\n",
       "      <th>Whisker.high</th>\n",
       "      <th>Whisker.low</th>\n",
       "      <th>Economy..GDP.per.Capita.</th>\n",
       "      <th>Family</th>\n",
       "      <th>Health..Life.Expectancy.</th>\n",
       "      <th>Freedom</th>\n",
       "      <th>Generosity</th>\n",
       "      <th>Trust..Government.Corruption.</th>\n",
       "      <th>Dystopia.Residual</th>\n",
       "    </tr>\n",
       "    <tr>\n",
       "      <th>Country</th>\n",
       "      <th></th>\n",
       "      <th></th>\n",
       "      <th></th>\n",
       "      <th></th>\n",
       "      <th></th>\n",
       "      <th></th>\n",
       "      <th></th>\n",
       "      <th></th>\n",
       "      <th></th>\n",
       "      <th></th>\n",
       "      <th></th>\n",
       "    </tr>\n",
       "  </thead>\n",
       "  <tbody>\n",
       "    <tr>\n",
       "      <th>Norway</th>\n",
       "      <td>1</td>\n",
       "      <td>7.537</td>\n",
       "      <td>7.594445</td>\n",
       "      <td>7.479556</td>\n",
       "      <td>1.616463</td>\n",
       "      <td>1.533524</td>\n",
       "      <td>0.796667</td>\n",
       "      <td>0.635423</td>\n",
       "      <td>0.362012</td>\n",
       "      <td>0.315964</td>\n",
       "      <td>2.277027</td>\n",
       "    </tr>\n",
       "    <tr>\n",
       "      <th>Denmark</th>\n",
       "      <td>2</td>\n",
       "      <td>7.522</td>\n",
       "      <td>7.581728</td>\n",
       "      <td>7.462272</td>\n",
       "      <td>1.482383</td>\n",
       "      <td>1.551122</td>\n",
       "      <td>0.792566</td>\n",
       "      <td>0.626007</td>\n",
       "      <td>0.355280</td>\n",
       "      <td>0.400770</td>\n",
       "      <td>2.313707</td>\n",
       "    </tr>\n",
       "    <tr>\n",
       "      <th>Iceland</th>\n",
       "      <td>3</td>\n",
       "      <td>7.504</td>\n",
       "      <td>7.622030</td>\n",
       "      <td>7.385970</td>\n",
       "      <td>1.480633</td>\n",
       "      <td>1.610574</td>\n",
       "      <td>0.833552</td>\n",
       "      <td>0.627163</td>\n",
       "      <td>0.475540</td>\n",
       "      <td>0.153527</td>\n",
       "      <td>2.322715</td>\n",
       "    </tr>\n",
       "    <tr>\n",
       "      <th>Switzerland</th>\n",
       "      <td>4</td>\n",
       "      <td>7.494</td>\n",
       "      <td>7.561772</td>\n",
       "      <td>7.426227</td>\n",
       "      <td>1.564980</td>\n",
       "      <td>1.516912</td>\n",
       "      <td>0.858131</td>\n",
       "      <td>0.620071</td>\n",
       "      <td>0.290549</td>\n",
       "      <td>0.367007</td>\n",
       "      <td>2.276716</td>\n",
       "    </tr>\n",
       "    <tr>\n",
       "      <th>Finland</th>\n",
       "      <td>5</td>\n",
       "      <td>7.469</td>\n",
       "      <td>7.527542</td>\n",
       "      <td>7.410458</td>\n",
       "      <td>1.443572</td>\n",
       "      <td>1.540247</td>\n",
       "      <td>0.809158</td>\n",
       "      <td>0.617951</td>\n",
       "      <td>0.245483</td>\n",
       "      <td>0.382612</td>\n",
       "      <td>2.430182</td>\n",
       "    </tr>\n",
       "  </tbody>\n",
       "</table>\n",
       "</div>"
      ],
      "text/plain": [
       "             Happiness.Rank  Happiness.Score  Whisker.high  Whisker.low  \\\n",
       "Country                                                                   \n",
       "Norway                    1            7.537      7.594445     7.479556   \n",
       "Denmark                   2            7.522      7.581728     7.462272   \n",
       "Iceland                   3            7.504      7.622030     7.385970   \n",
       "Switzerland               4            7.494      7.561772     7.426227   \n",
       "Finland                   5            7.469      7.527542     7.410458   \n",
       "\n",
       "             Economy..GDP.per.Capita.    Family  Health..Life.Expectancy.  \\\n",
       "Country                                                                     \n",
       "Norway                       1.616463  1.533524                  0.796667   \n",
       "Denmark                      1.482383  1.551122                  0.792566   \n",
       "Iceland                      1.480633  1.610574                  0.833552   \n",
       "Switzerland                  1.564980  1.516912                  0.858131   \n",
       "Finland                      1.443572  1.540247                  0.809158   \n",
       "\n",
       "              Freedom  Generosity  Trust..Government.Corruption.  \\\n",
       "Country                                                            \n",
       "Norway       0.635423    0.362012                       0.315964   \n",
       "Denmark      0.626007    0.355280                       0.400770   \n",
       "Iceland      0.627163    0.475540                       0.153527   \n",
       "Switzerland  0.620071    0.290549                       0.367007   \n",
       "Finland      0.617951    0.245483                       0.382612   \n",
       "\n",
       "             Dystopia.Residual  \n",
       "Country                         \n",
       "Norway                2.277027  \n",
       "Denmark               2.313707  \n",
       "Iceland               2.322715  \n",
       "Switzerland           2.276716  \n",
       "Finland               2.430182  "
      ]
     },
     "execution_count": 7,
     "metadata": {},
     "output_type": "execute_result"
    }
   ],
   "source": [
    "hap17.head()"
   ]
  },
  {
   "cell_type": "code",
   "execution_count": 8,
   "metadata": {},
   "outputs": [
    {
     "name": "stdout",
     "output_type": "stream",
     "text": [
      "<class 'pandas.core.frame.DataFrame'>\n",
      "Index: 155 entries, Afghanistan to Zimbabwe\n",
      "Data columns (total 8 columns):\n",
      "happiness     155 non-null float64\n",
      "economy       155 non-null float64\n",
      "family        155 non-null float64\n",
      "health        155 non-null float64\n",
      "freedom       155 non-null float64\n",
      "generosity    155 non-null float64\n",
      "trust         155 non-null float64\n",
      "res           155 non-null float64\n",
      "dtypes: float64(8)\n",
      "memory usage: 10.9+ KB\n"
     ]
    }
   ],
   "source": [
    "hap17.drop(['Happiness.Rank', 'Whisker.high', \n",
    "           'Whisker.low'], axis=1, inplace=True)\n",
    "hap17.columns = ['happiness', 'economy', 'family', \n",
    "                 'health', 'freedom','generosity',  'trust', 'res']\n",
    "hap17.sort_index(inplace=True)\n",
    "hap17.info()"
   ]
  },
  {
   "cell_type": "code",
   "execution_count": 9,
   "metadata": {},
   "outputs": [
    {
     "data": {
      "text/html": [
       "<div>\n",
       "<style scoped>\n",
       "    .dataframe tbody tr th:only-of-type {\n",
       "        vertical-align: middle;\n",
       "    }\n",
       "\n",
       "    .dataframe tbody tr th {\n",
       "        vertical-align: top;\n",
       "    }\n",
       "\n",
       "    .dataframe thead th {\n",
       "        text-align: right;\n",
       "    }\n",
       "</style>\n",
       "<table border=\"1\" class=\"dataframe\">\n",
       "  <thead>\n",
       "    <tr style=\"text-align: right;\">\n",
       "      <th></th>\n",
       "      <th>Rank</th>\n",
       "      <th>Score</th>\n",
       "      <th>GDP_Per_Capita</th>\n",
       "      <th>Social_Support</th>\n",
       "      <th>Healthy_Life_Expectancy</th>\n",
       "      <th>Freedom_To_Make_Life_Choices</th>\n",
       "      <th>Generosity</th>\n",
       "      <th>Perceptions_Of_Corruption</th>\n",
       "      <th>Residual</th>\n",
       "    </tr>\n",
       "    <tr>\n",
       "      <th>Country</th>\n",
       "      <th></th>\n",
       "      <th></th>\n",
       "      <th></th>\n",
       "      <th></th>\n",
       "      <th></th>\n",
       "      <th></th>\n",
       "      <th></th>\n",
       "      <th></th>\n",
       "      <th></th>\n",
       "    </tr>\n",
       "  </thead>\n",
       "  <tbody>\n",
       "    <tr>\n",
       "      <th>Finland</th>\n",
       "      <td>1</td>\n",
       "      <td>7.632</td>\n",
       "      <td>1.305</td>\n",
       "      <td>1.592</td>\n",
       "      <td>0.874</td>\n",
       "      <td>0.681</td>\n",
       "      <td>0.192</td>\n",
       "      <td>0.393</td>\n",
       "      <td>2.988</td>\n",
       "    </tr>\n",
       "    <tr>\n",
       "      <th>Norway</th>\n",
       "      <td>2</td>\n",
       "      <td>7.594</td>\n",
       "      <td>1.456</td>\n",
       "      <td>1.582</td>\n",
       "      <td>0.861</td>\n",
       "      <td>0.686</td>\n",
       "      <td>0.286</td>\n",
       "      <td>0.340</td>\n",
       "      <td>2.723</td>\n",
       "    </tr>\n",
       "    <tr>\n",
       "      <th>Denmark</th>\n",
       "      <td>3</td>\n",
       "      <td>7.555</td>\n",
       "      <td>1.351</td>\n",
       "      <td>1.590</td>\n",
       "      <td>0.868</td>\n",
       "      <td>0.683</td>\n",
       "      <td>0.284</td>\n",
       "      <td>0.408</td>\n",
       "      <td>2.779</td>\n",
       "    </tr>\n",
       "    <tr>\n",
       "      <th>Iceland</th>\n",
       "      <td>4</td>\n",
       "      <td>7.495</td>\n",
       "      <td>1.343</td>\n",
       "      <td>1.644</td>\n",
       "      <td>0.914</td>\n",
       "      <td>0.677</td>\n",
       "      <td>0.353</td>\n",
       "      <td>0.138</td>\n",
       "      <td>2.564</td>\n",
       "    </tr>\n",
       "    <tr>\n",
       "      <th>Switzerland</th>\n",
       "      <td>5</td>\n",
       "      <td>7.487</td>\n",
       "      <td>1.420</td>\n",
       "      <td>1.549</td>\n",
       "      <td>0.927</td>\n",
       "      <td>0.660</td>\n",
       "      <td>0.256</td>\n",
       "      <td>0.357</td>\n",
       "      <td>2.675</td>\n",
       "    </tr>\n",
       "  </tbody>\n",
       "</table>\n",
       "</div>"
      ],
      "text/plain": [
       "             Rank  Score  GDP_Per_Capita  Social_Support  \\\n",
       "Country                                                    \n",
       "Finland         1  7.632           1.305           1.592   \n",
       "Norway          2  7.594           1.456           1.582   \n",
       "Denmark         3  7.555           1.351           1.590   \n",
       "Iceland         4  7.495           1.343           1.644   \n",
       "Switzerland     5  7.487           1.420           1.549   \n",
       "\n",
       "             Healthy_Life_Expectancy  Freedom_To_Make_Life_Choices  \\\n",
       "Country                                                              \n",
       "Finland                        0.874                         0.681   \n",
       "Norway                         0.861                         0.686   \n",
       "Denmark                        0.868                         0.683   \n",
       "Iceland                        0.914                         0.677   \n",
       "Switzerland                    0.927                         0.660   \n",
       "\n",
       "             Generosity  Perceptions_Of_Corruption  Residual  \n",
       "Country                                                       \n",
       "Finland           0.192                      0.393     2.988  \n",
       "Norway            0.286                      0.340     2.723  \n",
       "Denmark           0.284                      0.408     2.779  \n",
       "Iceland           0.353                      0.138     2.564  \n",
       "Switzerland       0.256                      0.357     2.675  "
      ]
     },
     "execution_count": 9,
     "metadata": {},
     "output_type": "execute_result"
    }
   ],
   "source": [
    "hap18.head()"
   ]
  },
  {
   "cell_type": "code",
   "execution_count": 10,
   "metadata": {},
   "outputs": [
    {
     "name": "stdout",
     "output_type": "stream",
     "text": [
      "<class 'pandas.core.frame.DataFrame'>\n",
      "Index: 156 entries, Afghanistan to Zimbabwe\n",
      "Data columns (total 8 columns):\n",
      "happiness     156 non-null float64\n",
      "economy       156 non-null float64\n",
      "family        156 non-null float64\n",
      "health        156 non-null float64\n",
      "freedom       156 non-null float64\n",
      "generosity    156 non-null float64\n",
      "trust         155 non-null float64\n",
      "res           155 non-null float64\n",
      "dtypes: float64(8)\n",
      "memory usage: 11.0+ KB\n"
     ]
    }
   ],
   "source": [
    "hap18.drop('Rank', axis=1, inplace=True)\n",
    "hap18.columns = ['happiness', 'economy', 'family', \n",
    "                 'health', 'freedom', 'generosity', 'trust', 'res']\n",
    "hap18.sort_index(inplace=True)\n",
    "hap18.info()"
   ]
  },
  {
   "cell_type": "markdown",
   "metadata": {},
   "source": [
    "Соберём всё в один df."
   ]
  },
  {
   "cell_type": "code",
   "execution_count": 11,
   "metadata": {},
   "outputs": [],
   "source": [
    "hap = pd.concat([hap15, hap16, hap17, hap18], \n",
    "                keys=['2015', '2016', '2017', '2018'],\n",
    "               names=['year', 'country'], sort=False)\n",
    "\n",
    "hap.index = hap.index.swaplevel('country', 'year')\n",
    "hap.sort_index(inplace=True)\n",
    "hap.reset_index(inplace=True)"
   ]
  },
  {
   "cell_type": "markdown",
   "metadata": {},
   "source": [
    "Немного подчистим разнящиеся названия стран (например North Cyprus и Northern Cyprus) и допишем названия регионов."
   ]
  },
  {
   "cell_type": "code",
   "execution_count": 12,
   "metadata": {},
   "outputs": [],
   "source": [
    "c = { 'Hong Kong S.A.R., China': 'Hong Kong', 'Northern Cyprus': 'North Cyprus',\n",
    "     'Somaliland region': 'Somaliland Region', 'Taiwan Province of China': 'Taiwan',\n",
    "     'Trinidad & Tobago': 'Trinidad and Tobago'}\n",
    "hap.country.replace(c, inplace=True)\n",
    "hap.set_index('country', inplace=True)\n",
    "hap.region = hap.region.ffill()"
   ]
  },
  {
   "cell_type": "markdown",
   "metadata": {},
   "source": [
    "### Kickstarter"
   ]
  },
  {
   "cell_type": "code",
   "execution_count": 13,
   "metadata": {},
   "outputs": [],
   "source": [
    "kick = pd.read_csv(\"./data/Kickstarter_projects_Feb19.csv\", index_col='id')"
   ]
  },
  {
   "cell_type": "code",
   "execution_count": 14,
   "metadata": {
    "scrolled": false
   },
   "outputs": [
    {
     "data": {
      "text/html": [
       "<div>\n",
       "<style scoped>\n",
       "    .dataframe tbody tr th:only-of-type {\n",
       "        vertical-align: middle;\n",
       "    }\n",
       "\n",
       "    .dataframe tbody tr th {\n",
       "        vertical-align: top;\n",
       "    }\n",
       "\n",
       "    .dataframe thead th {\n",
       "        text-align: right;\n",
       "    }\n",
       "</style>\n",
       "<table border=\"1\" class=\"dataframe\">\n",
       "  <thead>\n",
       "    <tr style=\"text-align: right;\">\n",
       "      <th></th>\n",
       "      <th>name</th>\n",
       "      <th>currency</th>\n",
       "      <th>main_category</th>\n",
       "      <th>sub_category</th>\n",
       "      <th>launched_at</th>\n",
       "      <th>deadline</th>\n",
       "      <th>duration</th>\n",
       "      <th>goal_usd</th>\n",
       "      <th>city</th>\n",
       "      <th>state</th>\n",
       "      <th>country</th>\n",
       "      <th>blurb_length</th>\n",
       "      <th>name_length</th>\n",
       "      <th>status</th>\n",
       "      <th>start_month</th>\n",
       "      <th>end_month</th>\n",
       "      <th>start_Q</th>\n",
       "      <th>end_Q</th>\n",
       "      <th>usd_pledged</th>\n",
       "    </tr>\n",
       "    <tr>\n",
       "      <th>id</th>\n",
       "      <th></th>\n",
       "      <th></th>\n",
       "      <th></th>\n",
       "      <th></th>\n",
       "      <th></th>\n",
       "      <th></th>\n",
       "      <th></th>\n",
       "      <th></th>\n",
       "      <th></th>\n",
       "      <th></th>\n",
       "      <th></th>\n",
       "      <th></th>\n",
       "      <th></th>\n",
       "      <th></th>\n",
       "      <th></th>\n",
       "      <th></th>\n",
       "      <th></th>\n",
       "      <th></th>\n",
       "      <th></th>\n",
       "    </tr>\n",
       "  </thead>\n",
       "  <tbody>\n",
       "    <tr>\n",
       "      <th>1687733153</th>\n",
       "      <td>Socks of Speed and Socks of Elvenkind</td>\n",
       "      <td>USD</td>\n",
       "      <td>games</td>\n",
       "      <td>Tabletop Games</td>\n",
       "      <td>2018-10-30 20:00:02</td>\n",
       "      <td>2018-11-15 17:59:00</td>\n",
       "      <td>16.0</td>\n",
       "      <td>2000.00000</td>\n",
       "      <td>Menasha</td>\n",
       "      <td>WI</td>\n",
       "      <td>US</td>\n",
       "      <td>14</td>\n",
       "      <td>7</td>\n",
       "      <td>successful</td>\n",
       "      <td>10</td>\n",
       "      <td>11</td>\n",
       "      <td>Q4</td>\n",
       "      <td>Q4</td>\n",
       "      <td>6061.00000</td>\n",
       "    </tr>\n",
       "    <tr>\n",
       "      <th>227936657</th>\n",
       "      <td>Power Punch Boot Camp: An All-Ages Graphic Novel</td>\n",
       "      <td>GBP</td>\n",
       "      <td>comics</td>\n",
       "      <td>Comic Books</td>\n",
       "      <td>2018-08-06 10:00:43</td>\n",
       "      <td>2018-09-05 10:00:43</td>\n",
       "      <td>30.0</td>\n",
       "      <td>3870.99771</td>\n",
       "      <td>Shepperton</td>\n",
       "      <td>England</td>\n",
       "      <td>GB</td>\n",
       "      <td>24</td>\n",
       "      <td>8</td>\n",
       "      <td>successful</td>\n",
       "      <td>8</td>\n",
       "      <td>9</td>\n",
       "      <td>Q3</td>\n",
       "      <td>Q3</td>\n",
       "      <td>3914.50512</td>\n",
       "    </tr>\n",
       "    <tr>\n",
       "      <th>454186436</th>\n",
       "      <td>Live Printing with SX8: \"Squeegee Pulp Up\"</td>\n",
       "      <td>USD</td>\n",
       "      <td>fashion</td>\n",
       "      <td>Apparel</td>\n",
       "      <td>2017-06-09 15:41:03</td>\n",
       "      <td>2017-07-09 15:41:03</td>\n",
       "      <td>30.0</td>\n",
       "      <td>1100.00000</td>\n",
       "      <td>Manhattan</td>\n",
       "      <td>NY</td>\n",
       "      <td>US</td>\n",
       "      <td>21</td>\n",
       "      <td>7</td>\n",
       "      <td>successful</td>\n",
       "      <td>6</td>\n",
       "      <td>7</td>\n",
       "      <td>Q2</td>\n",
       "      <td>Q3</td>\n",
       "      <td>1110.00000</td>\n",
       "    </tr>\n",
       "    <tr>\n",
       "      <th>629469071</th>\n",
       "      <td>Lost Dog Street Band's Next Album</td>\n",
       "      <td>USD</td>\n",
       "      <td>music</td>\n",
       "      <td>Country &amp; Folk</td>\n",
       "      <td>2014-09-25 18:46:01</td>\n",
       "      <td>2014-11-10 06:00:00</td>\n",
       "      <td>45.0</td>\n",
       "      <td>3500.00000</td>\n",
       "      <td>Nashville</td>\n",
       "      <td>TN</td>\n",
       "      <td>US</td>\n",
       "      <td>15</td>\n",
       "      <td>6</td>\n",
       "      <td>successful</td>\n",
       "      <td>9</td>\n",
       "      <td>11</td>\n",
       "      <td>Q3</td>\n",
       "      <td>Q4</td>\n",
       "      <td>4807.00000</td>\n",
       "    </tr>\n",
       "    <tr>\n",
       "      <th>183973060</th>\n",
       "      <td>Qto-X, a Tiny Lantern</td>\n",
       "      <td>USD</td>\n",
       "      <td>technology</td>\n",
       "      <td>Gadgets</td>\n",
       "      <td>2016-11-28 16:35:11</td>\n",
       "      <td>2017-01-27 16:35:11</td>\n",
       "      <td>60.0</td>\n",
       "      <td>30000.00000</td>\n",
       "      <td>Troy</td>\n",
       "      <td>MI</td>\n",
       "      <td>US</td>\n",
       "      <td>15</td>\n",
       "      <td>4</td>\n",
       "      <td>successful</td>\n",
       "      <td>11</td>\n",
       "      <td>1</td>\n",
       "      <td>Q4</td>\n",
       "      <td>Q1</td>\n",
       "      <td>40368.00000</td>\n",
       "    </tr>\n",
       "  </tbody>\n",
       "</table>\n",
       "</div>"
      ],
      "text/plain": [
       "                                                        name currency  \\\n",
       "id                                                                      \n",
       "1687733153             Socks of Speed and Socks of Elvenkind      USD   \n",
       "227936657   Power Punch Boot Camp: An All-Ages Graphic Novel      GBP   \n",
       "454186436         Live Printing with SX8: \"Squeegee Pulp Up\"      USD   \n",
       "629469071                  Lost Dog Street Band's Next Album      USD   \n",
       "183973060                              Qto-X, a Tiny Lantern      USD   \n",
       "\n",
       "           main_category    sub_category          launched_at  \\\n",
       "id                                                              \n",
       "1687733153         games  Tabletop Games  2018-10-30 20:00:02   \n",
       "227936657         comics     Comic Books  2018-08-06 10:00:43   \n",
       "454186436        fashion         Apparel  2017-06-09 15:41:03   \n",
       "629469071          music  Country & Folk  2014-09-25 18:46:01   \n",
       "183973060     technology         Gadgets  2016-11-28 16:35:11   \n",
       "\n",
       "                       deadline  duration     goal_usd        city    state  \\\n",
       "id                                                                            \n",
       "1687733153  2018-11-15 17:59:00      16.0   2000.00000     Menasha       WI   \n",
       "227936657   2018-09-05 10:00:43      30.0   3870.99771  Shepperton  England   \n",
       "454186436   2017-07-09 15:41:03      30.0   1100.00000   Manhattan       NY   \n",
       "629469071   2014-11-10 06:00:00      45.0   3500.00000   Nashville       TN   \n",
       "183973060   2017-01-27 16:35:11      60.0  30000.00000        Troy       MI   \n",
       "\n",
       "           country  blurb_length  name_length      status  start_month  \\\n",
       "id                                                                       \n",
       "1687733153      US            14            7  successful           10   \n",
       "227936657       GB            24            8  successful            8   \n",
       "454186436       US            21            7  successful            6   \n",
       "629469071       US            15            6  successful            9   \n",
       "183973060       US            15            4  successful           11   \n",
       "\n",
       "            end_month start_Q end_Q  usd_pledged  \n",
       "id                                                \n",
       "1687733153         11      Q4    Q4   6061.00000  \n",
       "227936657           9      Q3    Q3   3914.50512  \n",
       "454186436           7      Q2    Q3   1110.00000  \n",
       "629469071          11      Q3    Q4   4807.00000  \n",
       "183973060           1      Q4    Q1  40368.00000  "
      ]
     },
     "execution_count": 14,
     "metadata": {},
     "output_type": "execute_result"
    }
   ],
   "source": [
    "kick.head()"
   ]
  },
  {
   "cell_type": "markdown",
   "metadata": {},
   "source": [
    "В исходном виде занимает 32мб памяти. Подчистим -- некоторые переменные подходят под категориальные, некоторые нам не пригодятся в анализе, дату запуска приведём в формат даты, статус проекта (успешный/провальный) переведём в логическую переменную."
   ]
  },
  {
   "cell_type": "code",
   "execution_count": 15,
   "metadata": {},
   "outputs": [],
   "source": [
    "col_list = ['currency', 'main_category', 'sub_category', 'country', 'status']\n",
    "for col in col_list:\n",
    "    kick[col] = kick[col].astype('category')\n",
    "    \n",
    "kick.drop(['deadline', 'city', 'state', 'start_Q', 'end_Q'],\n",
    "          axis=1, inplace=True)\n",
    "\n",
    "kick['launched_at'] = pd.to_datetime(kick.launched_at)\n",
    "\n",
    "kick['status'] = kick.status.replace({'successful': True, 'failed': False}).astype(bool)\n",
    "kick.rename(columns={'status': 'successful'}, inplace=True)"
   ]
  },
  {
   "cell_type": "code",
   "execution_count": 16,
   "metadata": {},
   "outputs": [],
   "source": [
    "kick = kick[(kick.launched_at > '2015-01-01') & \n",
    "            (kick.launched_at < '2018-12-31')]"
   ]
  },
  {
   "cell_type": "markdown",
   "metadata": {},
   "source": [
    "Используем почти в 3 раза меньше памяти :) <br>\n",
    "Оставим 2015-2018г (как и happiness)"
   ]
  },
  {
   "cell_type": "code",
   "execution_count": 17,
   "metadata": {
    "scrolled": true
   },
   "outputs": [
    {
     "name": "stdout",
     "output_type": "stream",
     "text": [
      "<class 'pandas.core.frame.DataFrame'>\n",
      "Int64Index: 139046 entries, 1687733153 to 2054018879\n",
      "Data columns (total 14 columns):\n",
      "name             139046 non-null object\n",
      "currency         139046 non-null category\n",
      "main_category    139046 non-null category\n",
      "sub_category     139046 non-null category\n",
      "launched_at      139046 non-null datetime64[ns]\n",
      "duration         139046 non-null float64\n",
      "goal_usd         139046 non-null float64\n",
      "country          139046 non-null category\n",
      "blurb_length     139046 non-null int64\n",
      "name_length      139046 non-null int64\n",
      "successful       139046 non-null bool\n",
      "start_month      139046 non-null int64\n",
      "end_month        139046 non-null int64\n",
      "usd_pledged      139046 non-null float64\n",
      "dtypes: bool(1), category(4), datetime64[ns](1), float64(3), int64(4), object(1)\n",
      "memory usage: 11.4+ MB\n"
     ]
    }
   ],
   "source": [
    "kick.info()"
   ]
  },
  {
   "cell_type": "markdown",
   "metadata": {},
   "source": [
    "Переведём сокращённые названия стран в полные (как в Happiness)"
   ]
  },
  {
   "cell_type": "code",
   "execution_count": 18,
   "metadata": {},
   "outputs": [
    {
     "name": "stdout",
     "output_type": "stream",
     "text": [
      "US GB DE CA IT NZ FR BE ES SE MX AU DK CH HK NL SG NO AT IE JP LU\n"
     ]
    }
   ],
   "source": [
    "print(*kick.country.unique())"
   ]
  },
  {
   "cell_type": "code",
   "execution_count": 19,
   "metadata": {},
   "outputs": [],
   "source": [
    "countries = {\n",
    "    'US': 'United States', 'GB': 'United Kingdom', 'DE': 'Germany', 'CA': 'Canada', 'IT': 'Italy',\n",
    "    'NZ': 'New Zealand', 'FR': 'France', 'BE': 'Belgium', 'ES': 'Spain', 'SE': 'Sweden', 'MX': 'Mexico',\n",
    "    'AU': 'Australia', 'DK': 'Denmark', 'CH': 'Switzerland', 'HK': 'Hong Kong', 'NL': 'Netherlands', \n",
    "    'SG': 'Singapore', 'NO': 'Norway', 'AT': 'Austria', 'IE': 'Ireland', 'JP': 'Japan', 'LU': 'Luxembourg'\n",
    "}\n",
    "kick.country.replace(countries, inplace=True)"
   ]
  },
  {
   "cell_type": "markdown",
   "metadata": {},
   "source": [
    "# EDA"
   ]
  },
  {
   "cell_type": "markdown",
   "metadata": {},
   "source": [
    "### Happiness"
   ]
  },
  {
   "cell_type": "code",
   "execution_count": 20,
   "metadata": {},
   "outputs": [
    {
     "data": {
      "image/png": "[encoded data removed]",
      "text/plain": [
       "<Figure size 576x360 with 1 Axes>"
      ]
     },
     "metadata": {
      "needs_background": "light"
     },
     "output_type": "display_data"
    }
   ],
   "source": [
    "hap.groupby('year').happiness.mean().plot(title='Mean happiness by year', figsize=(8,5), color='orange');"
   ]
  },
  {
   "cell_type": "code",
   "execution_count": 21,
   "metadata": {},
   "outputs": [
    {
     "data": {
      "image/png": "[encoded data removed]",
      "text/plain": [
       "<Figure size 576x360 with 1 Axes>"
      ]
     },
     "metadata": {
      "needs_background": "light"
     },
     "output_type": "display_data"
    }
   ],
   "source": [
    "hap.pivot_table(index='year', columns='region', values='happiness').plot(title='Mean happiness in region by year',\n",
    "                                                                        figsize=(8,5))\n",
    "plt.legend(loc='center left', bbox_to_anchor=(1.0, 0.65))\n",
    "plt.show()"
   ]
  },
  {
   "cell_type": "code",
   "execution_count": 22,
   "metadata": {
    "scrolled": true
   },
   "outputs": [
    {
     "data": {
      "image/png": "[encoded data removed]",
      "text/plain": [
       "<Figure size 576x360 with 1 Axes>"
      ]
     },
     "metadata": {
      "needs_background": "light"
     },
     "output_type": "display_data"
    }
   ],
   "source": [
    "hap.pivot_table(index='region', values=['economy', 'family', 'health', 'freedom', 'trust', 'generosity', 'res'], \n",
    "                aggfunc='mean').plot(kind='barh', stacked=True, title='Mean happiness in region by factors',\n",
    "                                    figsize=(8,5), alpha=0.7)\n",
    "plt.legend(loc='center left', bbox_to_anchor=(1.0, 0.75))\n",
    "plt.show()"
   ]
  },
  {
   "cell_type": "code",
   "execution_count": 23,
   "metadata": {},
   "outputs": [
    {
     "name": "stdout",
     "output_type": "stream",
     "text": [
      "Top 5 countries by happiness in each year\n",
      "\n",
      " year  country    \n",
      "2015  Switzerland    7.587\n",
      "      Iceland        7.561\n",
      "      Denmark        7.527\n",
      "      Norway         7.522\n",
      "      Canada         7.427\n",
      "2016  Denmark        7.526\n",
      "      Switzerland    7.509\n",
      "      Iceland        7.501\n",
      "      Norway         7.498\n",
      "      Finland        7.413\n",
      "2017  Norway         7.537\n",
      "      Denmark        7.522\n",
      "      Iceland        7.504\n",
      "      Switzerland    7.494\n",
      "      Finland        7.469\n",
      "2018  Finland        7.632\n",
      "      Norway         7.594\n",
      "      Denmark        7.555\n",
      "      Iceland        7.495\n",
      "      Switzerland    7.487\n",
      "Name: happiness, dtype: float64\n"
     ]
    }
   ],
   "source": [
    "top5 = hap[['year', 'happiness']].groupby('year')['happiness'].apply(lambda grp: grp.nlargest(5))\n",
    "print('Top 5 countries by happiness in each year\\n\\n', top5)\n",
    "top5 = top5.reset_index()"
   ]
  },
  {
   "cell_type": "code",
   "execution_count": 24,
   "metadata": {
    "scrolled": false
   },
   "outputs": [
    {
     "data": {
      "image/png": "[encoded data removed]",
      "text/plain": [
       "<Figure size 720x720 with 4 Axes>"
      ]
     },
     "metadata": {
      "needs_background": "light"
     },
     "output_type": "display_data"
    }
   ],
   "source": [
    "switcher = {0: ['orange', 'gray', 'yellow', 'blue', 'red'], \n",
    "            1: ['yellow', 'orange', 'gray', 'blue', 'green'], \n",
    "            2: ['blue', 'yellow', 'gray', 'orange', 'green'], \n",
    "            3: ['green', 'blue', 'yellow', 'gray', 'orange']}\n",
    "for n in range(4):\n",
    "    plt.subplot(4,1,n+1)\n",
    "    top5[top5.year == str(2015+n)].set_index('country')['happiness'].plot(kind='barh', figsize=(10,10), \n",
    "                                                                         color=switcher.get(n), alpha=0.6)\n",
    "    if n==0: plt.title('Top 5 countries by happiness in each year')\n",
    "    plt.ylabel(str(2015+n))\n",
    "    plt.xlim(7.4, 7.65)\n",
    "plt.show()"
   ]
  },
  {
   "cell_type": "markdown",
   "metadata": {},
   "source": [
    "### Kickstarter"
   ]
  },
  {
   "cell_type": "code",
   "execution_count": 25,
   "metadata": {},
   "outputs": [
    {
     "name": "stdout",
     "output_type": "stream",
     "text": [
      "Проекты по каким странам есть?\n",
      "\n",
      "United States     92326\n",
      "United Kingdom    16683\n",
      "Canada             7097\n",
      "Australia          3516\n",
      "Germany            2989\n",
      "France             2345\n",
      "Italy              2021\n",
      "Mexico             2013\n",
      "Spain              1671\n",
      "Netherlands        1359\n",
      "Sweden             1186\n",
      "Hong Kong           921\n",
      "Denmark             777\n",
      "New Zealand         669\n",
      "Singapore           627\n",
      "Switzerland         590\n",
      "Ireland             544\n",
      "Belgium             484\n",
      "Austria             449\n",
      "Norway              417\n",
      "Japan               308\n",
      "Luxembourg           54\n",
      "Name: country, dtype: int64\n"
     ]
    }
   ],
   "source": [
    "print('Проекты по каким странам есть?\\n\\n', kick.country.value_counts(), sep='')"
   ]
  },
  {
   "cell_type": "code",
   "execution_count": 26,
   "metadata": {},
   "outputs": [
    {
     "data": {
      "image/png": "[encoded data removed]",
      "text/plain": [
       "<Figure size 864x576 with 1 Axes>"
      ]
     },
     "metadata": {
      "needs_background": "light"
     },
     "output_type": "display_data"
    }
   ],
   "source": [
    "s = pd.DataFrame(kick.groupby('country').main_category.value_counts())\n",
    "s.columns = ['category_sum']\n",
    "s = s.pivot_table(index='country', columns='main_category', values='category_sum')\n",
    "s['sum'] = s.sum(axis=1)\n",
    "s = s.iloc[:, :-1].div(s['sum'], axis=0) * 100\n",
    "s.plot(kind='barh', stacked=True, title='Categories by country in 2015-2018, %', xlim=(0,100), figsize=(12,8), alpha=0.7)\n",
    "plt.legend(loc='center left', bbox_to_anchor=(1.0, 0.75));"
   ]
  },
  {
   "cell_type": "code",
   "execution_count": 27,
   "metadata": {},
   "outputs": [
    {
     "data": {
      "image/png": "[encoded data removed]",
      "text/plain": [
       "<Figure size 864x576 with 1 Axes>"
      ]
     },
     "metadata": {
      "needs_background": "light"
     },
     "output_type": "display_data"
    }
   ],
   "source": [
    "s = pd.DataFrame(kick[kick.main_category == 'technology'].groupby('country').sub_category.value_counts())\n",
    "s.columns = ['sub_category_sum']\n",
    "s = s.pivot_table(index='country', columns='sub_category', values='sub_category_sum')\n",
    "s['sum'] = s.sum(axis=1)\n",
    "s = s.iloc[:, :-1].div(s['sum'], axis=0) * 100\n",
    "s.plot(kind='barh', stacked=True, title='Subcategories in IT by country in 2015-2018, %', xlim=(0,100), figsize=(12,8), alpha=0.7)\n",
    "plt.legend(loc='center left', bbox_to_anchor=(1.0, 0.7));"
   ]
  },
  {
   "cell_type": "code",
   "execution_count": 28,
   "metadata": {},
   "outputs": [
    {
     "data": {
      "image/png": "[encoded data removed]",
      "text/plain": [
       "<Figure size 576x360 with 1 Axes>"
      ]
     },
     "metadata": {
      "needs_background": "light"
     },
     "output_type": "display_data"
    }
   ],
   "source": [
    "kick.groupby('main_category').successful.mean().sort_values().plot(kind='barh', xlim=(0,1), figsize=(8,5), alpha=0.7,\n",
    "                                                     title='Средний уровень успешности по категориям, %', color='orange');"
   ]
  },
  {
   "cell_type": "code",
   "execution_count": 29,
   "metadata": {
    "scrolled": true
   },
   "outputs": [
    {
     "data": {
      "image/png": "[encoded data removed]",
      "text/plain": [
       "<Figure size 576x360 with 1 Axes>"
      ]
     },
     "metadata": {
      "needs_background": "light"
     },
     "output_type": "display_data"
    }
   ],
   "source": [
    "kick[kick.successful].groupby('main_category').usd_pledged.median().sort_values().plot(kind='barh', figsize=(8,5), alpha=0.7,\n",
    "                                                     title='Медиана полученных денег по категориям, USD', color='orange');"
   ]
  }
 ],
 "metadata": {
  "kernelspec": {
   "display_name": "Python 3",
   "language": "python",
   "name": "python3"
  },
  "language_info": {
   "codemirror_mode": {
    "name": "ipython",
    "version": 3
   },
   "file_extension": ".py",
   "mimetype": "text/x-python",
   "name": "python",
   "nbconvert_exporter": "python",
   "pygments_lexer": "ipython3",
   "version": "3.7.4"
  }
 },
 "nbformat": 4,
 "nbformat_minor": 2
}
